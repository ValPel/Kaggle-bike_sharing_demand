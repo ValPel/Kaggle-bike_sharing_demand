{
 "cells": [
  {
   "cell_type": "markdown",
   "id": "5c6d927d",
   "metadata": {},
   "source": [
    "## Kaggle Bike sharing demand forecasting competition\n",
    "### Approach using Autogluon modelling\n",
    "https://www.kaggle.com/competitions/bike-sharing-demand"
   ]
  },
  {
   "cell_type": "markdown",
   "id": "ac63993d",
   "metadata": {},
   "source": [
    "## 1. Load Competition data"
   ]
  },
  {
   "cell_type": "code",
   "execution_count": null,
   "id": "fd3afdf5",
   "metadata": {},
   "outputs": [],
   "source": [
    "import pandas as pd"
   ]
  },
  {
   "cell_type": "code",
   "execution_count": null,
   "id": "1d929a41",
   "metadata": {},
   "outputs": [],
   "source": [
    "# load train df\n",
    "df_train = pd.read_csv(\"train.csv\")\n",
    "df_train.info()"
   ]
  },
  {
   "cell_type": "code",
   "execution_count": null,
   "id": "e666f670",
   "metadata": {},
   "outputs": [],
   "source": [
    "# visualise first 10 rows\n",
    "df_train.head(10)"
   ]
  },
  {
   "cell_type": "code",
   "execution_count": null,
   "id": "778fc12b",
   "metadata": {},
   "outputs": [],
   "source": [
    "# Assuming your column is already datetime type\n",
    "df_train[\"datetime\"] = pd.to_datetime(df_train[\"datetime\"])\n",
    "\n",
    "start = df_train[\"datetime\"].min()\n",
    "end = df_train[\"datetime\"].max()\n",
    "\n",
    "print(\"Start:\", start)\n",
    "print(\"End:\", end)"
   ]
  },
  {
   "cell_type": "code",
   "execution_count": null,
   "id": "542b5969",
   "metadata": {},
   "outputs": [],
   "source": [
    "# load test df\n",
    "df_test = pd.read_csv(\"test.csv\")\n",
    "df_test.info()"
   ]
  },
  {
   "cell_type": "code",
   "execution_count": null,
   "id": "656f7d18",
   "metadata": {},
   "outputs": [],
   "source": [
    "# drop casual,registered columns as missing from test dataset\n",
    "df_train.drop(columns=[\"casual\",\"registered\"], inplace=True)"
   ]
  },
  {
   "cell_type": "markdown",
   "id": "38700370",
   "metadata": {},
   "source": [
    "## 2. Submission A: baseline model on raw data\n"
   ]
  },
  {
   "cell_type": "code",
   "execution_count": null,
   "id": "86bd31c3",
   "metadata": {},
   "outputs": [],
   "source": [
    "from autogluon.tabular import TabularPredictor"
   ]
  },
  {
   "cell_type": "code",
   "execution_count": null,
   "id": "73639800",
   "metadata": {},
   "outputs": [],
   "source": [
    "predictor = TabularPredictor(label=\"count\", path = f\"AutogluonModels/agmodelA\").fit(\n",
    "    train_data=df_train,\n",
    "    time_limit=60,\n",
    "    presets=\"best_quality\"\n",
    ")"
   ]
  },
  {
   "cell_type": "markdown",
   "id": "2d7c85a9",
   "metadata": {},
   "source": [
    "### Review AutoGluon's training run with ranking of models that did the best."
   ]
  },
  {
   "cell_type": "code",
   "execution_count": null,
   "id": "f672b3d5",
   "metadata": {},
   "outputs": [],
   "source": [
    "predictor.fit_summary()"
   ]
  },
  {
   "cell_type": "code",
   "execution_count": null,
   "id": "5f30344c",
   "metadata": {},
   "outputs": [],
   "source": [
    "# make predictions on test dataset\n",
    "predictions = predictor.predict(df_test)\n",
    "predictions.head()"
   ]
  },
  {
   "cell_type": "code",
   "execution_count": null,
   "id": "76e9ff88",
   "metadata": {},
   "outputs": [],
   "source": [
    "#### NOTE: Kaggle will reject the submission if it contains negative numbers - we need to set everything to be > 0\n",
    "\n",
    "# how many negative predictions?\n",
    "print(f\"number of negative predictions: {len(predictions[predictions<0])}\")\n",
    "\n",
    "# replace with zeros\n",
    "predictions[predictions<0] = 0"
   ]
  },
  {
   "cell_type": "markdown",
   "id": "5dc980d1",
   "metadata": {},
   "source": [
    "### Set predictions to submission dataframe, save, and submit"
   ]
  },
  {
   "cell_type": "code",
   "execution_count": null,
   "id": "eba0401d",
   "metadata": {},
   "outputs": [],
   "source": [
    "submission = pd.DataFrame({\"datetime\":df_test[\"datetime\"]})\n",
    "submission[\"count\"] = predictions\n",
    "submission.to_csv(\"submissions/submission_a.csv\", index=False)"
   ]
  },
  {
   "cell_type": "markdown",
   "id": "3c6ade11",
   "metadata": {},
   "source": [
    "## 3. Run EDA"
   ]
  },
  {
   "cell_type": "markdown",
   "id": "3caefb21",
   "metadata": {},
   "source": [
    "### Process\n",
    "- a Transformation\n",
    "- b Missing Data\n",
    "- c Anomalous data\n",
    "- d Correlation analysis\n",
    "- e Feature Engineering"
   ]
  },
  {
   "cell_type": "code",
   "execution_count": null,
   "id": "024509f6",
   "metadata": {},
   "outputs": [],
   "source": [
    "import matplotlib.pyplot as plt\n",
    "import seaborn as sns"
   ]
  },
  {
   "cell_type": "code",
   "execution_count": null,
   "id": "3d7427dc",
   "metadata": {},
   "outputs": [],
   "source": [
    "## Transformation: parse datetime into day and hour\n",
    "df_train[\"datetime\"] = pd.to_datetime(df_train[\"datetime\"])\n",
    "df_train[\"day\"] = df_train[\"datetime\"].dt.date\n",
    "df_train[\"hour\"] = df_train[\"datetime\"].dt.hour\n",
    "df_test[\"datetime\"] = pd.to_datetime(df_test[\"datetime\"])\n",
    "df_test[\"day\"] = df_test[\"datetime\"].dt.date\n",
    "df_test[\"hour\"] = df_test[\"datetime\"].dt.hour\n",
    "\n",
    "# store test datetime for submission\n",
    "submission = pd.DataFrame({'datetime': df_test[\"datetime\"]})\n",
    "\n",
    "# datetime after refitting to dataset\n",
    "df_train.drop(columns=[\"datetime\"], inplace=True)\n",
    "df_test.drop(columns=[\"datetime\"], inplace=True)\n"
   ]
  },
  {
   "cell_type": "code",
   "execution_count": null,
   "id": "586966c0",
   "metadata": {},
   "outputs": [],
   "source": [
    "## Transformation: set categorical variables to pandas type category\n",
    "num_cols = ['temp', 'atemp','humidity', 'windspeed']\n",
    "cat_cols = [\"season\", \"holiday\", \"workingday\", \"weather\"]\n",
    "datete_cols = [\"day\", \"hour\"]\n",
    "target_col = [\"count\"]\n",
    "df_train[cat_cols] = df_train[cat_cols].astype(\"category\")\n",
    "df_test[cat_cols] = df_test[cat_cols].astype(\"category\")"
   ]
  },
  {
   "cell_type": "code",
   "execution_count": null,
   "id": "da630635",
   "metadata": {},
   "outputs": [],
   "source": [
    "## Missing data - no missing data found\n",
    "print(df_train.info())\n",
    "print(df_test.info())\n"
   ]
  },
  {
   "cell_type": "code",
   "execution_count": null,
   "id": "e8700a3d",
   "metadata": {},
   "outputs": [],
   "source": [
    "## explore continuous variables\n",
    "print(df_train.describe())\n",
    "print(\"\\n------------------------------\\n\")\n",
    "print(df_test.describe())"
   ]
  },
  {
   "cell_type": "code",
   "execution_count": null,
   "id": "d2b3bc9c",
   "metadata": {},
   "outputs": [],
   "source": [
    "# outliers: no apparent outliers seen\n",
    "for col in (num_cols + target_col):\n",
    "    s = df_train[col].dropna()\n",
    "    plt.figure()\n",
    "    plt.hist(s, bins=30)\n",
    "    plt.title(f'{col} (n={len(s)})')\n",
    "    plt.xlabel(col); plt.ylabel('Frequency')\n",
    "    plt.show()"
   ]
  },
  {
   "cell_type": "code",
   "execution_count": null,
   "id": "a259031f",
   "metadata": {},
   "outputs": [],
   "source": [
    "# outliers: no apparent outliers seen\n",
    "for col in num_cols:\n",
    "    s = df_test[col].dropna()\n",
    "    plt.figure()\n",
    "    plt.hist(s, bins=30)\n",
    "    plt.title(f'{col} (n={len(s)})')\n",
    "    plt.xlabel(col); plt.ylabel('Frequency')\n",
    "    plt.show()"
   ]
  },
  {
   "cell_type": "code",
   "execution_count": null,
   "id": "0adb0367",
   "metadata": {},
   "outputs": [],
   "source": [
    "# outliers: no apparent outliers seen\n",
    "for col in cat_cols:\n",
    "    counts = df_train[col].astype('category').value_counts(dropna=False).sort_index()\n",
    "    plt.figure()\n",
    "    counts.plot(kind='bar')\n",
    "    plt.title(f'{col} (counts)')\n",
    "    plt.ylabel('Count'); plt.xlabel(col)\n",
    "    plt.show()"
   ]
  },
  {
   "cell_type": "code",
   "execution_count": null,
   "id": "58ba0514",
   "metadata": {},
   "outputs": [],
   "source": [
    "# outliers: no apparent outliers seen\n",
    "for col in cat_cols:\n",
    "    counts = df_test[col].astype('category').value_counts(dropna=False).sort_index()\n",
    "    plt.figure()\n",
    "    counts.plot(kind='bar')\n",
    "    plt.title(f'{col} (counts)')\n",
    "    plt.ylabel('Count'); plt.xlabel(col)\n",
    "    plt.show()"
   ]
  },
  {
   "cell_type": "code",
   "execution_count": null,
   "id": "8d05ac06",
   "metadata": {},
   "outputs": [],
   "source": [
    "# outliers: no apparent outliers seen\n",
    "for col in num_cols + target_col:\n",
    "    plt.figure()\n",
    "    plt.boxplot(df_train[col].dropna())\n",
    "    plt.title(col)\n",
    "    plt.ylabel(col)\n",
    "    plt.tight_layout()\n",
    "    plt.show()\n",
    "\n",
    "for col in num_cols:\n",
    "    plt.figure()\n",
    "    plt.boxplot(df_test[col].dropna())\n",
    "    plt.title(col)\n",
    "    plt.ylabel(col)\n",
    "    plt.tight_layout()\n",
    "    plt.show()"
   ]
  },
  {
   "cell_type": "code",
   "execution_count": null,
   "id": "8c599b26",
   "metadata": {},
   "outputs": [],
   "source": [
    "# correlation analysis\n",
    "# plot sns pairplot including categorical variables\n",
    "df_codes = df_train.copy()\n",
    "for c in cat_cols:\n",
    "    df_codes[c] = df_codes[c].astype('category').cat.codes\n",
    "sns.pairplot(df_codes[df_codes.select_dtypes('number').columns], height=3)"
   ]
  },
  {
   "cell_type": "code",
   "execution_count": null,
   "id": "f65b0d11",
   "metadata": {},
   "outputs": [],
   "source": [
    "# correlation analysis\n",
    "# plot correlation matrix against all plots\n",
    "corr = df_codes.drop(columns=\"day\").corr()\n",
    "plt.figure(figsize=(12, 8))\n",
    "sns.heatmap(corr, vmin=-1, annot=True, vmax=1, center=0, cmap=\"vlag\")\n",
    "plt.show()"
   ]
  },
  {
   "cell_type": "code",
   "execution_count": null,
   "id": "aaf0b1ae",
   "metadata": {},
   "outputs": [],
   "source": [
    "# Build polynomial features: 1/x, x, x^2, x^3\n",
    "pieces = []\n",
    "for c in num_cols:\n",
    "    s = df_train[c]\n",
    "    df_c = pd.DataFrame({\n",
    "        f'{c}_inv': 1.0 / s.replace(0),  # avoid +/-inf on zeros\n",
    "        f'{c}':     s,\n",
    "        f'{c}_2':   s**2,\n",
    "        f'{c}_3':   s**3,\n",
    "    }, index=df_train.index)\n",
    "    pieces.append(df_c)\n",
    "\n",
    "poly_df = pd.concat(pieces, axis=1)\n",
    "poly_df[\"count\"] = df_train[\"count\"]\n",
    "\n",
    "# correlation analysis with expanded features\n",
    "corr_poly = poly_df.corr()\n",
    "plt.figure(figsize=(12, 8))\n",
    "sns.heatmap(corr_poly, vmin=-1, annot=True, vmax=1, center=0, cmap=\"vlag\")\n",
    "plt.show()"
   ]
  },
  {
   "cell_type": "code",
   "execution_count": null,
   "id": "90b93c08",
   "metadata": {},
   "outputs": [],
   "source": [
    "# FE: drop cross-correlated feature temperature, only keep atemp\n",
    "df_train.drop(columns=[\"temp\"], inplace=True)\n",
    "df_test.drop(columns=[\"temp\"], inplace=True)\n",
    "num_cols.remove(\"temp\")"
   ]
  },
  {
   "cell_type": "markdown",
   "id": "769e411d",
   "metadata": {},
   "source": [
    "## 4. Refit Autogluon model"
   ]
  },
  {
   "cell_type": "code",
   "execution_count": null,
   "id": "199f042b",
   "metadata": {},
   "outputs": [],
   "source": [
    "predictor = TabularPredictor(label=\"count\", path = f\"AutogluonModels/agmodelB\").fit(\n",
    "    train_data=df_train,\n",
    "    time_limit=60,\n",
    "    presets=\"best_quality\"\n",
    ")"
   ]
  },
  {
   "cell_type": "code",
   "execution_count": null,
   "id": "52ed0851",
   "metadata": {},
   "outputs": [],
   "source": [
    "predictor.fit_summary()"
   ]
  },
  {
   "cell_type": "code",
   "execution_count": null,
   "id": "ae6d1c1d",
   "metadata": {},
   "outputs": [],
   "source": [
    "# make predictions on test dataset\n",
    "predictions = predictor.predict(df_test)\n",
    "predictions.head()"
   ]
  },
  {
   "cell_type": "code",
   "execution_count": null,
   "id": "0c8cb732",
   "metadata": {},
   "outputs": [],
   "source": [
    "#### NOTE: Kaggle will reject the submission if it contains negative numbers - we need to set everything to be > 0\n",
    "\n",
    "# how many negative predictions?\n",
    "print(f\"number of negative predictions: {len(predictions[predictions<0])}\")\n",
    "\n",
    "# replace with zeros\n",
    "predictions[predictions<0] = 0"
   ]
  },
  {
   "cell_type": "code",
   "execution_count": null,
   "id": "9f1e6f68",
   "metadata": {},
   "outputs": [],
   "source": [
    "# save submission to csv\n",
    "submission[\"count\"] = predictions\n",
    "submission.to_csv(\"submissions/submission_b.csv\", index=False)"
   ]
  },
  {
   "cell_type": "markdown",
   "id": "1abe6618",
   "metadata": {},
   "source": [
    "## 5. Refit Autogluon model with hyperparameter tuning"
   ]
  },
  {
   "cell_type": "code",
   "execution_count": null,
   "id": "b9fd6e6b",
   "metadata": {},
   "outputs": [],
   "source": [
    "from autogluon.tabular.configs.hyperparameter_configs import get_hyperparameter_config"
   ]
  },
  {
   "cell_type": "code",
   "execution_count": null,
   "id": "8e3fcb69",
   "metadata": {},
   "outputs": [],
   "source": [
    "nsl = [3,2,1,0]\n",
    "\n",
    "for n in nsl:\n",
    "    predictor = TabularPredictor(label=\"count\", path = f\"AutogluonModels/agmodelC\").fit(\n",
    "        train_data=df_train,\n",
    "        num_stack_levels=n,\n",
    "        time_limit=60,\n",
    "        presets=\"best_quality\",\n",
    "        hyperparameters=get_hyperparameter_config(\"default\"), \n",
    "        hyperparameter_tune_kwargs={\"num_trials\": 30, \"searcher\": \"random\"}\n",
    "    )\n",
    "\n",
    "    # make predictions on test dataset\n",
    "    predictions = predictor.predict(df_test)\n",
    "    predictions.head()\n",
    "\n",
    "    # replace with zeros\n",
    "    predictions[predictions<0] = 0\n",
    "\n",
    "    # save submission to csv\n",
    "    submission[\"count\"] = predictions\n",
    "    submission.to_csv(f\"submissions/submission_tl_{str(n)}.csv\", index=False)\n"
   ]
  },
  {
   "cell_type": "code",
   "execution_count": null,
   "id": "fe064992",
   "metadata": {},
   "outputs": [],
   "source": [
    "predictor.fit_summary()"
   ]
  },
  {
   "cell_type": "markdown",
   "id": "de975770",
   "metadata": {},
   "source": [
    "## 6: Write a Report\n",
    "### Creating plots and table for report"
   ]
  },
  {
   "cell_type": "code",
   "execution_count": null,
   "id": "17d93d34",
   "metadata": {},
   "outputs": [],
   "source": [
    "# Taking the top model score from each training run and creating a line plot to show improvement\n",
    "# You can create these in the notebook and save them to PNG or use some other tool (e.g. google sheets, excel)\n",
    "fig = pd.DataFrame(\n",
    "    {\n",
    "        \"model\": [\"initial\", \"add_features\", \"hpo\"],\n",
    "        \"score\": [-133.287222, -35.713615, -33.899264]\n",
    "    }\n",
    ").plot(x=\"model\", y=\"score\", figsize=(8, 6)).get_figure()\n",
    "fig.savefig('model_train_score.png')"
   ]
  },
  {
   "cell_type": "code",
   "execution_count": null,
   "id": "b2b86d0e",
   "metadata": {},
   "outputs": [],
   "source": [
    "# Take the 3 kaggle scores and creating a line plot to show improvement\n",
    "fig = pd.DataFrame(\n",
    "    {\n",
    "        \"test_eval\": [\"initial\", \"add_features\", \"hpo\"],\n",
    "        \"score\": [1.41644, 0.59952, 0.50653]\n",
    "    }\n",
    ").plot(x=\"test_eval\", y=\"score\", figsize=(8, 6)).get_figure()\n",
    "fig.savefig('model_test_score.png')"
   ]
  }
 ],
 "metadata": {
  "kernelspec": {
   "display_name": ".venv",
   "language": "python",
   "name": "python3"
  },
  "language_info": {
   "codemirror_mode": {
    "name": "ipython",
    "version": 3
   },
   "file_extension": ".py",
   "mimetype": "text/x-python",
   "name": "python",
   "nbconvert_exporter": "python",
   "pygments_lexer": "ipython3",
   "version": "3.11.4"
  }
 },
 "nbformat": 4,
 "nbformat_minor": 5
}
